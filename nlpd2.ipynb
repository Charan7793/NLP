{
 "cells": [
  {
   "cell_type": "code",
   "execution_count": 11,
   "id": "2d1eea46-4909-4329-9396-36ce3640bc48",
   "metadata": {},
   "outputs": [],
   "source": [
    "text1 = \"Shakespearean, I'm enjoying this class. This is my second class.\"\n",
    "import nltk\n",
    "fd = nltk.FreqDist(text1.split())"
   ]
  },
  {
   "cell_type": "code",
   "execution_count": 12,
   "id": "04981d96-e3ea-4eae-ad08-cc9a07945229",
   "metadata": {},
   "outputs": [
    {
     "data": {
      "text/plain": [
       "FreqDist({'class.': 2, 'Shakespearean,': 1, \"I'm\": 1, 'enjoying': 1, 'this': 1, 'This': 1, 'is': 1, 'my': 1, 'second': 1})"
      ]
     },
     "execution_count": 12,
     "metadata": {},
     "output_type": "execute_result"
    }
   ],
   "source": [
    "fd"
   ]
  },
  {
   "cell_type": "code",
   "execution_count": 22,
   "id": "e5c1c963-360c-4a5b-b8b5-30b57e128464",
   "metadata": {},
   "outputs": [],
   "source": [
    "from nltk.probability import ConditionalFreqDist\n",
    "cfd = ConditionalFreqDist((len(word), word) for word in text1.split())"
   ]
  },
  {
   "cell_type": "code",
   "execution_count": 24,
   "id": "13839e07-3132-4fc5-a9d1-378c88798c8b",
   "metadata": {},
   "outputs": [
    {
     "data": {
      "text/plain": [
       "FreqDist({'Shakespearean,': 1})"
      ]
     },
     "execution_count": 24,
     "metadata": {},
     "output_type": "execute_result"
    }
   ],
   "source": [
    "cfd[14]"
   ]
  },
  {
   "cell_type": "code",
   "execution_count": 27,
   "id": "9db2cf09-db86-496c-97be-996c46fbef9f",
   "metadata": {},
   "outputs": [
    {
     "name": "stdout",
     "output_type": "stream",
     "text": [
      "Requirement already satisfied: jieba in c:\\users\\chara\\appdata\\local\\programs\\python\\python310\\lib\\site-packages (0.42.1)\n",
      "Note: you may need to restart the kernel to use updated packages.\n"
     ]
    }
   ],
   "source": [
    "pip install jieba"
   ]
  },
  {
   "cell_type": "code",
   "execution_count": 1,
   "id": "34915b18-68aa-4fb2-9141-d6a23bc2ce02",
   "metadata": {},
   "outputs": [],
   "source": [
    "import jieba"
   ]
  },
  {
   "cell_type": "code",
   "execution_count": 4,
   "id": "aea0da8c-ad46-43ed-815a-79b2363c3c78",
   "metadata": {},
   "outputs": [],
   "source": [
    "seg_list = jieba.cut(\"自然语言\", cut_all=True)"
   ]
  },
  {
   "cell_type": "code",
   "execution_count": 5,
   "id": "e12a278e-10c7-48da-bc7a-f80fed5d6a07",
   "metadata": {},
   "outputs": [
    {
     "name": "stdout",
     "output_type": "stream",
     "text": [
      "<generator object Tokenizer.cut at 0x00000234797B8DD0>\n"
     ]
    }
   ],
   "source": [
    "print(seg_list)"
   ]
  },
  {
   "cell_type": "code",
   "execution_count": 6,
   "id": "749480d5-78c3-4c44-9b98-ac4cf09becd2",
   "metadata": {},
   "outputs": [
    {
     "name": "stderr",
     "output_type": "stream",
     "text": [
      "Building prefix dict from the default dictionary ...\n",
      "Dumping model to file cache C:\\Users\\chara\\AppData\\Local\\Temp\\jieba.cache\n",
      "Loading model cost 1.520 seconds.\n",
      "Prefix dict has been built successfully.\n"
     ]
    },
    {
     "name": "stdout",
     "output_type": "stream",
     "text": [
      "自然, 自然语言, 语言\n"
     ]
    }
   ],
   "source": [
    "print(\", \".join(seg_list))"
   ]
  },
  {
   "cell_type": "code",
   "execution_count": null,
   "id": "a89687f5-061d-490f-93fe-127aafaf95fe",
   "metadata": {},
   "outputs": [],
   "source": []
  }
 ],
 "metadata": {
  "kernelspec": {
   "display_name": "Python 3 (ipykernel)",
   "language": "python",
   "name": "python3"
  },
  "language_info": {
   "codemirror_mode": {
    "name": "ipython",
    "version": 3
   },
   "file_extension": ".py",
   "mimetype": "text/x-python",
   "name": "python",
   "nbconvert_exporter": "python",
   "pygments_lexer": "ipython3",
   "version": "3.10.2"
  }
 },
 "nbformat": 4,
 "nbformat_minor": 5
}
